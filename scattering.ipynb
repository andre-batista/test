{
 "cells": [
  {
   "cell_type": "markdown",
   "metadata": {},
   "source": [
    "# Soluções para o espalhamento do cilindro condutor\n",
    "\n",
    "Neste documento são implementadas as soluções analítica, Ótica Física e Método dos Momentos para o problema do cilindro condutor. Toda implementação é feita em Python.\n",
    "\n",
    "O primeiro passo é importar as bibliotecas necessárias para as implementações"
   ]
  },
  {
   "cell_type": "code",
   "execution_count": 1,
   "metadata": {},
   "outputs": [],
   "source": [
    "# Importing standard libraries\n",
    "import numpy as np\n",
    "from matplotlib import pyplot as plt\n",
    "\n",
    "# Importing important constants\n",
    "from numpy import pi\n",
    "from numpy import euler_gamma as gamma\n",
    "from scipy.constants import epsilon_0\n",
    "from scipy.constants import mu_0\n",
    "\n",
    "# Importing special functions\n",
    "from scipy.special import hankel2, jv\n",
    "from scipy import linalg as lag"
   ]
  },
  {
   "cell_type": "markdown",
   "metadata": {},
   "source": [
    "Antes de implementarmos as técnicas, é necessário definir alguns parâmetros importantes do problema os quais são: a proporção raio do cilindro por comprimento de onda ($a/\\lambda$), a amplitude da onda incidente ($E_0$), a frequência linear de operação do sistema ($f$), a permissividade ($\\epsilon$) e a permeabilidade ($\\mu$) do espaço livre que envolve o cilindro condutor."
   ]
  },
  {
   "cell_type": "code",
   "execution_count": 2,
   "metadata": {},
   "outputs": [],
   "source": [
    "# Main parameters\n",
    "proportion_radius_to_wavelength = .5\n",
    "E0 = 1.  # Incident field amplitude [V/m]\n",
    "f = .3e9  # Linear frequency [Hz]\n",
    "epsilon = epsilon_0  # Background permittivity [F/m]\n",
    "mu = mu_0  # Permeability of background [H/m]"
   ]
  },
  {
   "cell_type": "markdown",
   "metadata": {},
   "source": [
    "A partir da definição desses parâmetros, algumas constantes são definidas: a frequência angular do sistema ($\\omega$), o número de onda ($k$), o comprimento de onda ($\\lambda$), o raio do cilindro ($a$) e o raio de medição de campo ($\\rho$). Esse último será definido como mil vezes o comprimento de onda, ou seja, na região de campo distante."
   ]
  },
  {
   "cell_type": "code",
   "execution_count": 3,
   "metadata": {},
   "outputs": [],
   "source": [
    "omega = 2*pi*f  # Angular frequency [rad]\n",
    "k = omega*np.sqrt(epsilon*mu)  # Wavenumber [1/m]\n",
    "lambda_b = 2*pi/np.real(k)  # Wavelength [m]\n",
    "a = proportion_radius_to_wavelength*lambda_b  # Radius of the cylinder [m]\n",
    "rho = 1000*lambda_b  # Measurement radio [m]"
   ]
  },
  {
   "cell_type": "markdown",
   "metadata": {},
   "source": [
    "## Solução Analítica\n",
    "\n",
    "A solução análitica, tanto para o campo espalhado ($E_z^s$) quanto para a corrente induzida na interface do cilindro ($J_z$), é determinada por um somatório infinito. Para a implementação do somatório, é necessário truncar o número de termos. Após sucessivos experimentos, foi definido o seguinte padrão para a escolha do número de termos no somatório:"
   ]
  },
  {
   "cell_type": "code",
   "execution_count": 4,
   "metadata": {},
   "outputs": [],
   "source": [
    "# Determine the bounds of the sum\n",
    "if proportion_radius_to_wavelength == .5:\n",
    "    N = 150\n",
    "elif proportion_radius_to_wavelength == 5.:\n",
    "    N = 300\n",
    "elif proportion_radius_to_wavelength == 50.:\n",
    "    N = 600\n",
    "else:\n",
    "    N = round(8.108*proportion_radius_to_wavelength + 200)"
   ]
  },
  {
   "cell_type": "markdown",
   "metadata": {},
   "source": [
    "Antes de implementarmos as soluções, é necessário definir também o número de pontos no eixo $\\phi$ para o qual o campo e a corrente serão calculados:"
   ]
  },
  {
   "cell_type": "code",
   "execution_count": 5,
   "metadata": {},
   "outputs": [],
   "source": [
    "# Discretization\n",
    "NP = 1000  # Number of samples in phi-axis\n",
    "phi = np.linspace(0, 2*pi, NP)  # Angle coordinates [rad]"
   ]
  },
  {
   "cell_type": "markdown",
   "metadata": {},
   "source": [
    "O campo espalhado é dado pela seguinte equação: $$ E_z^s = E_0 \\sum\\limits_{n=-\\infty}^{\\infty} j^{-n}a_nH_n^{(2)}(k\\rho)e^{jn\\phi}$$ onde $a_n = \\frac{-J_n(ka)}{H_n(2)(ka)}$."
   ]
  },
  {
   "cell_type": "code",
   "execution_count": 6,
   "metadata": {},
   "outputs": [],
   "source": [
    "# Scattered field computation\n",
    "Es_a = np.zeros(NP, dtype=complex)\n",
    "for n in range(-N, N+1):\n",
    "    an = -jv(n, k*a)/hankel2(n, k*a)\n",
    "    Es_a = Es_a + E0*1j**(-n)*an*hankel2(n, k*rho)*np.exp(1j*n*phi)"
   ]
  },
  {
   "cell_type": "markdown",
   "metadata": {},
   "source": [
    "A corrente é calculada através da seguinte expressão: $$ J_z = -\\frac{2E_0}{\\omega\\mu\\pi a} \\sum\\limits_{n=-\\infty}^{\\infty} \\frac{j^{-n}e^{jn\\phi}}{H_n^{(2)}(ka)} $$"
   ]
  },
  {
   "cell_type": "code",
   "execution_count": 7,
   "metadata": {},
   "outputs": [],
   "source": [
    "# Current computation\n",
    "Jz_a = np.zeros(NP, dtype=complex)\n",
    "for n in range(-N, N+1):\n",
    "    Jz_a = Jz_a + -2*E0/(omega*mu*pi*a)*1j**(-n)*np.exp(1j*n*phi)/hankel2(n, k*a)\n",
    "phi_a = np.copy(phi)  # Auxiliar variable for plot purposes"
   ]
  },
  {
   "cell_type": "markdown",
   "metadata": {},
   "source": [
    "## Ótica Física\n",
    "\n",
    "A solução através da Ótica Física é baseada na aproximação da corrente pelo campo magnético incidente na região da interface do cilindro: \n",
    "\n",
    "$$\\mathbf{J}_s \\approx 2\\mathbf{n}\\times\\mathbf{H}^i, ~\\mathrm{em}~ S^\\prime$$\n",
    "\n",
    "Essa solução é definida somente para a região iluminada do cilindro, i.e., $\\phi\\in[\\pi/2, 3\\pi/2]$. Por isso, é necessário discretizar o domínio $\\phi$ duas vezes: uma para amostrar a corrente na região iluminada onde a integral é definida e outra para calcular o campo na região distante."
   ]
  },
  {
   "cell_type": "code",
   "execution_count": 8,
   "metadata": {},
   "outputs": [],
   "source": [
    "# Discretization\n",
    "NP = 500  # Number of samples in phi-axis\n",
    "phi = np.linspace(0, 2*pi, NP)  # Angle coordinates (measurement) [rad]\n",
    "phip = np.linspace(pi/2, 3*pi/2, NP)  # Angle coordinates (integration) [rad]"
   ]
  },
  {
   "cell_type": "markdown",
   "metadata": {},
   "source": [
    "O campo espalhado total é dado pela seguinte equação:\n",
    "\n",
    "$$ E_z^s(\\rho, \\phi) = j E_0ka \\sqrt{\\frac{1}{2jk\\pi\\rho}} e^{-jk\\rho} \\int_{\\pi/2}^{3\\pi/2} cos\\phi^\\prime e^{-jka cos\\phi^\\prime} e^{jka\\cos\\left(\\phi-\\phi^\\prime \\right)} d\\phi^\\prime $$"
   ]
  },
  {
   "cell_type": "code",
   "execution_count": 9,
   "metadata": {},
   "outputs": [],
   "source": [
    "# Scattered field computation\n",
    "Es_p = np.zeros(NP, dtype=complex)\n",
    "for i in range(NP):\n",
    "    Es_p[i] = (1j*E0*k*a*np.sqrt(1/(2j*k*pi*rho))*np.exp(-1j*k*rho)\n",
    "               * np.trapz(np.cos(phip)*np.exp(-1j*k*a*np.cos(phip))\n",
    "                          * np.exp(1j*k*a*np.cos(phi[i]-phip)), x=phip))"
   ]
  },
  {
   "cell_type": "markdown",
   "metadata": {},
   "source": [
    "A corrente induzida na interface do cilindro é dada pela seguinte equação:\n",
    "\n",
    "$$ J_z = -2j\\frac{E_0k}{\\hat{z}} \\cos{\\phi} e^{-jka\\cos{\\phi}} $$"
   ]
  },
  {
   "cell_type": "code",
   "execution_count": 10,
   "metadata": {},
   "outputs": [],
   "source": [
    "# Current computation\n",
    "Jz_p = np.zeros(NP, dtype=complex)\n",
    "for i in range(NP):\n",
    "    Jz_p[i] = (-2j*E0*k/(1j*omega*mu)*np.cos(phip[i])\n",
    "               * np.exp(-1j*k*a*np.cos(phip[i])))\n",
    "\n",
    "# Auxiliar variables for plot purposes\n",
    "phi_p = np.copy(phi)\n",
    "phip_p = np.copy(phip)"
   ]
  },
  {
   "cell_type": "markdown",
   "metadata": {},
   "source": [
    "## Método dos Momentos\n",
    "\n",
    "No Método dos Momentos são utilizadas as equações integrais de campo elétrico e campo magnético de forma combinada. A equação de campo elétrico é expressa por:\n",
    "\n",
    "$$ E_0e^{-jka\\cos{\\phi}} = \\frac{\\omega\\mu}{4} \\int_0^{2\\pi} J_z(\\boldsymbol{\\rho}^\\prime) H_0^{(2)}(k|\\boldsymbol{\\rho}-\\boldsymbol{\\rho}^\\prime|) ad\\phi^\\prime $$\n",
    "\n",
    "E a equação integral de campo magnético é dada por:\n",
    "\n",
    "$$ -\\frac{E_0}{\\eta}\\cos{\\phi}e^{-jka\\cos{\\phi}} = \\frac{J_z(\\boldsymbol{\\rho})}{2} + \\frac{jk}{4}\\int_0^{2\\pi} J_z(\\boldsymbol{\\rho}^\\prime) H_1^{(2)}(k|\\boldsymbol{\\rho}-\\boldsymbol{\\rho}^\\prime|) \\cos{\\Phi} ad\\phi^\\prime$$\n",
    "\n",
    "*OBS*: Essas integrais são integrais de valor principal, onde é excluído o ponto de singularidade. O símbolo para expressar isso nessa linguagem de escrita não foi encontrado.\n",
    "\n",
    "Para resolver essas equações combinadas, é necessário discretizar o círculo de interface do cilindro em segmentos. Nessa implementação, por questões de simplicadade, o círculo será discretizado em segmentos uniformemente espaçados com coordenada $\\rho$ fixa."
   ]
  },
  {
   "cell_type": "code",
   "execution_count": 11,
   "metadata": {},
   "outputs": [],
   "source": [
    "# Discretization\n",
    "NP = 100\n",
    "DP = 2*pi/NP  # phi discretization\n",
    "phi = np.arange(DP/2, 2*pi, DP)  # Angle coordinates [rad]\n",
    "DSn = 2*pi*a/NP  # Size of the segments\n",
    "eta = np.sqrt(mu/epsilon)  # Intrisic impedance"
   ]
  },
  {
   "cell_type": "markdown",
   "metadata": {},
   "source": [
    "A partir disso, um sistema linear $V = ZI$ é montado onde o lado esquerdo da equação é determinado por: \n",
    "\n",
    "$$ V_m = E_0 e^{-jka\\cos{\\phi_m}} \\left( 1- \\frac{1}{\\eta}\\cos{\\phi_m} \\right),~ m = 1, \\cdots, N $$"
   ]
  },
  {
   "cell_type": "code",
   "execution_count": 12,
   "metadata": {},
   "outputs": [],
   "source": [
    "# Left-hand side\n",
    "V = (E0*np.exp(-1j*k*a*np.cos(phi))\n",
    "     - E0/eta*np.cos(phi)*np.exp(-1j*k*a*np.cos(phi)))"
   ]
  },
  {
   "cell_type": "markdown",
   "metadata": {},
   "source": [
    "E a matriz de coeficientes $Z$ é determinada por:\n",
    "\n",
    "$$ Z_{mn} = \\begin{cases}  \\frac{\\omega\\mu}{4}H_0^{(2)}(k|\\boldsymbol{\\rho}_m-\\boldsymbol{\\rho}_n|)\\Delta_{S_n} + \\frac{jk}{4}H_1^{(2)}(k|\\boldsymbol{\\rho}_m-\\boldsymbol{\\rho}_n|)\\cos\\Phi_{mn}\\Delta_{S_n},~ &m\\neq n \\\\  \\frac{\\omega\\mu\\Delta_{S_n}}{4}\\left\\{1-\\frac{j2}{\\pi}\\left[\\ln\\left(\\frac{k\\Delta_{S_n}}{4}\\right) + \\gamma - 1\\right]\\right\\} + 1/2,~ &m=n \\end{cases} $$"
   ]
  },
  {
   "cell_type": "code",
   "execution_count": 13,
   "metadata": {},
   "outputs": [],
   "source": [
    "# Coefficient matrix\n",
    "Z = np.zeros((NP, NP), dtype=complex)\n",
    "for m in range(NP):\n",
    "    for n in range(NP):\n",
    "        if m != n:\n",
    "            R = np.sqrt(a**2 + a**2 - 2*a*a*np.cos(phi[m]-phi[n]))\n",
    "            Z[m, n] = (omega*mu/4*hankel2(0, k*R)*DSn\n",
    "                       + 1j*k/4*hankel2(1, k*R)*(a-a*np.cos(phi[m]-phi[n]))/R\n",
    "                       * DSn)\n",
    "        else:\n",
    "            Z[m, n] = (omega*mu*DSn/4*(1 - 2j/pi*(np.log(k*DSn/4)+gamma-1))\n",
    "                       + 1/2)\n"
   ]
  },
  {
   "cell_type": "markdown",
   "metadata": {},
   "source": [
    "O sistema linear é resolvido por uma rotina padrão e a solução é a corrente $J_z$. A partir dessa corrente, o campo elétrico espalhado pode ser aproximado por:\n",
    "\n",
    "$$ E_z^s(\\boldsymbol{\\rho}) = \\frac{-\\omega\\mu}{4} \\sqrt{\\frac{j2}{\\pi k\\rho}} e^{-jk\\rho} \\sum\\limits_{n=1}^N I_n e^{jka\\cos(\\phi-\\phi_n)}\\Delta_{S_n} $$"
   ]
  },
  {
   "cell_type": "code",
   "execution_count": 14,
   "metadata": {},
   "outputs": [],
   "source": [
    "# Compute current and scattered field\n",
    "Jz_m = lag.solve(Z, V)\n",
    "Es_m = np.zeros(phi.size, dtype=complex)\n",
    "for m in range(NP):\n",
    "    Es_m[m] = (-omega*mu/4*np.sqrt(2j/(pi*k*rho))*np.exp(-1j*k*rho)\n",
    "               * np.sum(Jz_m*np.exp(1j*k*a*np.cos(phi[m]-phi))*DSn))\n",
    "\n",
    "phi_m = np.copy(phi)  # auxiliar variable for plot purposes"
   ]
  },
  {
   "cell_type": "markdown",
   "metadata": {},
   "source": [
    "## Análise dos resultados\n",
    "\n",
    "Dados os resultados, podemos plotar os gráficos de corrente e campo através das seguintes linhas de comando:\n",
    "\n",
    "### Campo Espalhado"
   ]
  },
  {
   "cell_type": "code",
   "execution_count": 15,
   "metadata": {},
   "outputs": [
    {
     "data": {
      "image/png": "[encoded data removed]",
      "text/plain": [
       "<Figure size 432x288 with 1 Axes>"
      ]
     },
     "metadata": {
      "needs_background": "light"
     },
     "output_type": "display_data"
    }
   ],
   "source": [
    "N = 20  # Decreasing the number of points for physical optics and MoM solutions\n",
    "\n",
    "# Plot Scattered field (E_z^s)\n",
    "plt.plot(np.rad2deg(phi_a), 20*np.log10(np.abs(Es_a)/np.sqrt(rho)),\n",
    "         label='Analytical')\n",
    "plt.plot(np.rad2deg(phi_p[::N]), 20*np.log10(np.abs(Es_p[::N])/np.sqrt(rho)),\n",
    "         '*', label='Physical Opt.')\n",
    "plt.plot(np.rad2deg(phi_m[::N]), 20*np.log10(np.abs(Es_m[::N])/np.sqrt(rho)),\n",
    "         '*', label='MoM')\n",
    "plt.grid()\n",
    "plt.xlabel(r'$\\phi$ [deg]')\n",
    "plt.ylabel(r'$20\\log_{10}(|E^s_z|/\\sqrt{\\rho})$ [dB]')\n",
    "plt.title('Scattered Field')\n",
    "plt.legend()\n",
    "plt.show()"
   ]
  },
  {
   "cell_type": "markdown",
   "metadata": {},
   "source": [
    "### Corrente induzida"
   ]
  },
  {
   "cell_type": "code",
   "execution_count": 16,
   "metadata": {},
   "outputs": [
    {
     "data": {
      "image/png": "[encoded data removed]",
      "text/plain": [
       "<Figure size 432x288 with 1 Axes>"
      ]
     },
     "metadata": {
      "needs_background": "light"
     },
     "output_type": "display_data"
    }
   ],
   "source": [
    "# Plot Induced Current (J_z)\n",
    "plt.plot(np.rad2deg(phi_a), np.abs(Jz_a), label='Analytical')\n",
    "plt.plot(np.rad2deg(phip_p[::N]), np.abs(Jz_p[::N]), '*',\n",
    "         label='Physical Opt.')\n",
    "plt.plot(np.rad2deg(phi_m[::N]), np.abs(Jz_m[::N]), '*',\n",
    "         label='MoM')\n",
    "plt.grid()\n",
    "plt.xlabel(r'$\\phi$ [deg]')\n",
    "plt.ylabel(r'$|J_z|$ [A/m]')\n",
    "plt.title('Current density')\n",
    "plt.legend()\n",
    "plt.show()"
   ]
  }
 ],
 "metadata": {
  "kernelspec": {
   "display_name": "Python 3",
   "language": "python",
   "name": "python3"
  },
  "language_info": {
   "codemirror_mode": {
    "name": "ipython",
    "version": 3
   },
   "file_extension": ".py",
   "mimetype": "text/x-python",
   "name": "python",
   "nbconvert_exporter": "python",
   "pygments_lexer": "ipython3",
   "version": "3.6.10"
  }
 },
 "nbformat": 4,
 "nbformat_minor": 4
}
